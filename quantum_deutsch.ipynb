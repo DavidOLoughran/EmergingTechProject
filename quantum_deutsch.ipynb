{
 "cells": [
  {
   "cell_type": "markdown",
   "id": "f591a1a1-f331-4e62-8a5d-db2076affaf4",
   "metadata": {},
   "source": [
    "# Quantum Computing\n",
    "Quantum computing is the field of development which focus on the application of quantum theory to technologies in the world of computing. Quantum computing is a highly complex form of computing using quantum-mechanical formula’s which if implemented correctly can harness processing speeds that far excel those of traditional computers that use a binary solution which can only hold a position of 1 and 0. This is achieved using Qubits that can be in multiple states simultaneously when they enter a superposition. \n",
    "\n",
    "## Superposition\n",
    "Quantum theory on superpositions states that a quantum particle has the ability to exist in two separate locations at the same time. This means in theory the particle can exist in multiple states simultaneously unless it is observed or measured. When applying this idea to the world of computing we use Qubits which represent a wide range of possible combinations using 1 and 0. This allows quantum computers to utilise superpositions in order to execute tasks in parallel. A Qubit is not only capable of being either a 1 or a 0, but can actually be both a 1 and a 0 at the same time. The values of these Qubits fluctuate while the task is being complete but once observed the final result will be calculated and the Qubits will have returned to a state of either a 0 or 1.  \n",
    "\n",
    "## Entanglement  \n",
    "\n",
    "Quantum theory suggests entanglement is when quantum particles enter a state where the stay connected so that the actions of one particle effects the other regardless of the distance between them. When applied to quantum computing an entangled qubit can be used to measure and change properties of the other qubit allowing for an exponential increase in information that can be used to perform more complex calculations. "
   ]
  },
  {
   "cell_type": "markdown",
   "id": "ca9f7728-c81c-4e7c-9358-82334fef23fd",
   "metadata": {},
   "source": [
    "## Quantum Computing vs Classical Computing  \n",
    "\n",
    "The main difference between a classic computer and a quantum computer is in the way they process information. Classical computers use transistors that act as logic gates which are either a 0(off) or a 1(on). This limits classical computers to executing only a single task at a time. Whereas quantum computers have the ability to be either a 1 or a 0 simultaneously through Qubits. These qubits are linked together through entanglement so that one effects the other instantaneously. This allows for computations to be executed in parallel unlike traditional binary computation. Each Qubit that gets added to a quantum circuit and linked together exponentially increases the computing power of a quantum machine when compared to the 1|1 increase in power from adding more transistors to a classical chip.\n",
    "\n",
    "A key factor to take into account is the expenses and complexity that come with building both machines. Understandably quantum computers are extremely expensive and complex to build limiting their current use case when compared to traditional computers making them far superior when it comes to preforming everyday tasks. Although quantum computers may not be suitable for personal use cases, they are infinitely better in fields that involve complex calculations such as running simulations, machine learning and are even used in the development of new drugs.  \n"
   ]
  },
  {
   "cell_type": "markdown",
   "id": "d477cbf9-4021-4ac0-a666-69fa8a1e575e",
   "metadata": {},
   "source": [
    "# Deutsch's Algorithm\n",
    "https://qiskit.org/textbook/ch-algorithms/deutsch-jozsa.html\n",
    "https://en.wikipedia.org/wiki/Deutsch%E2%80%93Jozsa_algorithm\n",
    "\n",
    "Deutsch Algorithm is a deterministic quantum algorithm initially proposed by David Deutsch and Richard Jozsa in 1992. Although it's use is currently ver limited due to the practical limitations mentioned above it was the proof of concept that quantum algorithms could reach speeds that far exceed the potential of classical computers of this day. It demonstrates the significance of quantum amplitudes being able to take both negative and positive values as classical computers are only capable of producing probabilties that are always non-negative.\n",
    "\n",
    "### How it works\n",
    "1. Initialise n "
   ]
  },
  {
   "cell_type": "code",
   "execution_count": 10,
   "id": "41eb1f31-7a82-44b4-95ef-17309863b456",
   "metadata": {},
   "outputs": [],
   "source": [
    "import qiskit              "
   ]
  },
  {
   "cell_type": "code",
   "execution_count": 11,
   "id": "ac686885",
   "metadata": {},
   "outputs": [],
   "source": [
    "import qiskit.providers.aer as aer"
   ]
  },
  {
   "cell_type": "code",
   "execution_count": 12,
   "id": "87b7fc4a-5a2d-41b2-bf4e-5302f0011892",
   "metadata": {},
   "outputs": [],
   "source": [
    "import matplotlib.pyplot as plt"
   ]
  },
  {
   "cell_type": "code",
   "execution_count": 13,
   "id": "592f24f0-a5af-418f-9e5d-20ed25086d6b",
   "metadata": {},
   "outputs": [],
   "source": [
    "plt.style.use('ggplot')"
   ]
  },
  {
   "cell_type": "markdown",
   "id": "bf227413-ae73-4737-84a0-f41899f936fd",
   "metadata": {},
   "source": [
    "### Constant Zero Function: $f(0) = 0, f(1) = 0$\n"
   ]
  },
  {
   "cell_type": "code",
   "execution_count": 14,
   "id": "df4447e3-00c6-4748-8aab-adb0d24f6423",
   "metadata": {},
   "outputs": [],
   "source": [
    "# Create a quantum circuit\n",
    "circuit = qiskit.QuantumCircuit(2, 1)"
   ]
  },
  {
   "cell_type": "code",
   "execution_count": 15,
   "id": "6340f98e-fcc7-4ead-abc3-ff0ce3490e94",
   "metadata": {},
   "outputs": [
    {
     "data": {
      "text/plain": [
       "<qiskit.circuit.instructionset.InstructionSet at 0x7f2ded11e380>"
      ]
     },
     "execution_count": 15,
     "metadata": {},
     "output_type": "execute_result"
    }
   ],
   "source": [
    "# Initialise the first qubit to |0>\n",
    "circuit.initialize([1, 0], 0)"
   ]
  },
  {
   "cell_type": "code",
   "execution_count": 16,
   "id": "71cc4de2-4914-49d3-973b-ec87d8ab4d7a",
   "metadata": {},
   "outputs": [
    {
     "data": {
      "text/plain": [
       "<qiskit.circuit.instructionset.InstructionSet at 0x7f2ded4e7bc0>"
      ]
     },
     "execution_count": 16,
     "metadata": {},
     "output_type": "execute_result"
    }
   ],
   "source": [
    "# Initialise the second qubit to |1>\n",
    "circuit.initialize([0, 1], 1)"
   ]
  },
  {
   "cell_type": "code",
   "execution_count": 17,
   "id": "8323c35e-998c-4b5e-87f8-83c45abee920",
   "metadata": {},
   "outputs": [
    {
     "data": {
      "text/plain": [
       "<qiskit.circuit.instructionset.InstructionSet at 0x7f2dedac7500>"
      ]
     },
     "execution_count": 17,
     "metadata": {},
     "output_type": "execute_result"
    }
   ],
   "source": [
    "# Apply a Hadamard gate to first qubit\n",
    "circuit.h(0)"
   ]
  },
  {
   "cell_type": "code",
   "execution_count": 18,
   "id": "7bfeb38b-59ac-4e69-85b8-c7a6b3ae63c3",
   "metadata": {},
   "outputs": [
    {
     "data": {
      "text/plain": [
       "<qiskit.circuit.instructionset.InstructionSet at 0x7f2ded6cb1c0>"
      ]
     },
     "execution_count": 18,
     "metadata": {},
     "output_type": "execute_result"
    }
   ],
   "source": [
    "# Apply a Hadamard gate to second qubit.\n",
    "circuit.h(1)"
   ]
  },
  {
   "cell_type": "code",
   "execution_count": 19,
   "id": "499f4936-6130-497a-a038-d374183897f5",
   "metadata": {},
   "outputs": [
    {
     "data": {
      "text/plain": [
       "<qiskit.circuit.instructionset.InstructionSet at 0x7f2decb52280>"
      ]
     },
     "execution_count": 19,
     "metadata": {},
     "output_type": "execute_result"
    }
   ],
   "source": [
    "# Identity gate\n",
    "circuit.i(1)"
   ]
  },
  {
   "cell_type": "code",
   "execution_count": 20,
   "id": "4f28c38a-8c07-4666-be3a-4ef0dd4f20be",
   "metadata": {},
   "outputs": [
    {
     "data": {
      "text/plain": [
       "<qiskit.circuit.instructionset.InstructionSet at 0x7f2ded4fad40>"
      ]
     },
     "execution_count": 20,
     "metadata": {},
     "output_type": "execute_result"
    }
   ],
   "source": [
    "# Apply another Hadamard gate to the first qubit.\n",
    "circuit.h(0)"
   ]
  },
  {
   "cell_type": "code",
   "execution_count": 21,
   "id": "82e53804-37c8-4ed6-8ddf-8df1455921ab",
   "metadata": {},
   "outputs": [
    {
     "data": {
      "text/plain": [
       "<qiskit.circuit.instructionset.InstructionSet at 0x7f2ded4e9b40>"
      ]
     },
     "execution_count": 21,
     "metadata": {},
     "output_type": "execute_result"
    }
   ],
   "source": [
    "# Measure the first qubit\n",
    "circuit.measure(0, 0)"
   ]
  },
  {
   "cell_type": "code",
   "execution_count": 22,
   "id": "97b21ed2-ab4c-4478-9748-1430634d3066",
   "metadata": {},
   "outputs": [
    {
     "data": {
      "image/png": "[encoded data removed]",
      "text/plain": [
       "<Figure size 589.054x368.424 with 1 Axes>"
      ]
     },
     "execution_count": 22,
     "metadata": {},
     "output_type": "execute_result"
    }
   ],
   "source": [
    "# Draw the circuit\n",
    "circuit.draw(output='mpl', scale=1.8)"
   ]
  },
  {
   "cell_type": "code",
   "execution_count": 23,
   "id": "fcdebad1-f6cf-4dbb-966b-1d03ab077404",
   "metadata": {},
   "outputs": [
    {
     "data": {
      "image/png": "[encoded data removed]",
      "text/plain": [
       "<Figure size 72x288 with 1 Axes>"
      ]
     },
     "execution_count": 23,
     "metadata": {},
     "output_type": "execute_result"
    }
   ],
   "source": [
    "# Create a simulation instance\n",
    "simulator = aer.QasmSimulator()\n",
    "\n",
    "# Compile the circuit in the simluator\n",
    "compcircuit = qiskit.transpile(circuit, simulator)\n",
    "\n",
    "# Simulate the circuit 1000 times\n",
    "job = simulator.run(compcircuit, shots=1000)\n",
    "\n",
    "# Get the results\n",
    "results = job.result()\n",
    "\n",
    "# Show the result counts\n",
    "counts = results.get_counts()\n",
    "\n",
    "# Display histogram\n",
    "qiskit.visualization.plot_histogram(counts, figsize=(1, 4))"
   ]
  },
  {
   "cell_type": "markdown",
   "id": "b554e76c-d303-4d4f-bf23-b2d7018cfb60",
   "metadata": {},
   "source": [
    "### Constant One Function: $f(0) = 1, f(1) = 1$"
   ]
  },
  {
   "cell_type": "code",
   "execution_count": 24,
   "id": "bb477a70-0fc1-4df7-afaa-0decd020bea2",
   "metadata": {},
   "outputs": [
    {
     "data": {
      "image/png": "[encoded data removed]",
      "text/plain": [
       "<Figure size 589.054x368.424 with 1 Axes>"
      ]
     },
     "execution_count": 24,
     "metadata": {},
     "output_type": "execute_result"
    }
   ],
   "source": [
    "# Create a quantum circuit\n",
    "circuit = qiskit.QuantumCircuit(2, 1)\n",
    "\n",
    "# Initialise the first qubit to |0>\n",
    "circuit.initialize([1, 0], 0)\n",
    "\n",
    "# Initialise the second qubit to |1>\n",
    "circuit.initialize([0, 1], 1)\n",
    "\n",
    "# Apply a Hadamard gate to each qubit\n",
    "circuit.h((0, 1))\n",
    "\n",
    "# X gate\n",
    "circuit.x(1)\n",
    "\n",
    "# Apply another Hadamard gate to the first qubit\n",
    "circuit.h(0)\n",
    "\n",
    "# Measure the first qubit\n",
    "circuit.measure(0, 0)\n",
    "\n",
    "# Draw the circuit.\n",
    "circuit.draw(output='mpl', scale=1.8)"
   ]
  },
  {
   "cell_type": "code",
   "execution_count": 25,
   "id": "86145698-519d-4f7d-b7dc-f8ae73813776",
   "metadata": {},
   "outputs": [
    {
     "data": {
      "image/png": "[encoded data removed]",
      "text/plain": [
       "<Figure size 72x288 with 1 Axes>"
      ]
     },
     "execution_count": 25,
     "metadata": {},
     "output_type": "execute_result"
    }
   ],
   "source": [
    "# Create a simulation instance.\n",
    "simulator = aer.QasmSimulator()\n",
    "\n",
    "# Compile the circuit in the simluator.\n",
    "compcircuit = qiskit.transpile(circuit, simulator)\n",
    "\n",
    "# Simulate the circuit 1000 times.\n",
    "job = simulator.run(compcircuit, shots=1000)\n",
    "\n",
    "# Get the results.\n",
    "results = job.result()\n",
    "\n",
    "# Show the result counts.\n",
    "counts = results.get_counts()\n",
    "\n",
    "# Display histogram\n",
    "qiskit.visualization.plot_histogram(counts, figsize=(1, 4))"
   ]
  },
  {
   "cell_type": "markdown",
   "id": "6afd9741-eb60-499b-b133-ab6b69c851ad",
   "metadata": {},
   "source": [
    "### Balance Zero-One Function: $f(0) = 0, f(1) = 1$"
   ]
  },
  {
   "cell_type": "code",
   "execution_count": 26,
   "id": "d3eae774-5504-457f-883b-5882d5dd46ff",
   "metadata": {},
   "outputs": [
    {
     "data": {
      "image/png": "[encoded data removed]",
      "text/plain": [
       "<Figure size 697.414x368.424 with 1 Axes>"
      ]
     },
     "execution_count": 26,
     "metadata": {},
     "output_type": "execute_result"
    }
   ],
   "source": [
    "# Create a quantum circuit.\n",
    "circuit = qiskit.QuantumCircuit(2, 1)\n",
    "\n",
    "# Initialise the first qubit to |0>.\n",
    "circuit.initialize([1, 0], 0)\n",
    "\n",
    "# Initialise the second qubit to |1>.\n",
    "circuit.initialize([0, 1], 1)\n",
    "\n",
    "# Apply a Hadamard gate to each qubit.\n",
    "circuit.h((0, 1))\n",
    "\n",
    "# CNOT gate.\n",
    "circuit.cnot(0, 1)\n",
    "\n",
    "# Apply another Hadamard gate to the first qubit.\n",
    "circuit.h(0)\n",
    "\n",
    "# Measure the first qubit.\n",
    "circuit.measure(0, 0)\n",
    "\n",
    "# Draw the circuit.\n",
    "circuit.draw(output='mpl', scale=1.8)"
   ]
  },
  {
   "cell_type": "code",
   "execution_count": 27,
   "id": "f544390c-b41f-4dcc-bf3a-a63581058169",
   "metadata": {},
   "outputs": [
    {
     "data": {
      "image/png": "[encoded data removed]",
      "text/plain": [
       "<Figure size 72x288 with 1 Axes>"
      ]
     },
     "execution_count": 27,
     "metadata": {},
     "output_type": "execute_result"
    }
   ],
   "source": [
    "# Create a simulation instance.\n",
    "simulator = aer.QasmSimulator()\n",
    "\n",
    "# Compile the circuit in the simluator.\n",
    "compcircuit = qiskit.transpile(circuit, simulator)\n",
    "\n",
    "# Simulate the circuit 1000 times.\n",
    "job = simulator.run(compcircuit, shots=1000)\n",
    "\n",
    "# Get the results.\n",
    "results = job.result()\n",
    "\n",
    "# Show the result counts.\n",
    "counts = results.get_counts()\n",
    "\n",
    "# Display histogram\n",
    "qiskit.visualization.plot_histogram(counts, figsize=(1, 4))\n"
   ]
  },
  {
   "cell_type": "code",
   "execution_count": 28,
   "id": "e09c5775-0d06-4687-b2ed-9b2b22a6f588",
   "metadata": {},
   "outputs": [
    {
     "data": {
      "image/png": "[encoded data removed]",
      "text/plain": [
       "<Figure size 697.414x368.424 with 1 Axes>"
      ]
     },
     "execution_count": 28,
     "metadata": {},
     "output_type": "execute_result"
    }
   ],
   "source": [
    "# Create a quantum circuit.\n",
    "circuit = qiskit.QuantumCircuit(2, 1)\n",
    "\n",
    "# Initialise the first qubit to |0>.\n",
    "circuit.initialize([1, 0], 0)\n",
    "\n",
    "# Initialise the second qubit to |1>.\n",
    "circuit.initialize([0, 1], 1)\n",
    "\n",
    "# Apply a Hadamard gate to each qubit.\n",
    "circuit.h((0, 1))\n",
    "\n",
    "# CNOT gate.\n",
    "circuit.cnot(0, 1)\n",
    "\n",
    "# Apply x to second qubit.\n",
    "circuit.x(1)\n",
    "\n",
    "# Apply another Hadamard gate to the first qubit.\n",
    "circuit.h(0)\n",
    "\n",
    "# Measure the first qubit.\n",
    "circuit.measure(0, 0)\n",
    "\n",
    "# Draw the circuit.\n",
    "circuit.draw(output='mpl', scale=1.8)\n"
   ]
  },
  {
   "cell_type": "code",
   "execution_count": 29,
   "id": "1219fca1-41a0-468b-8ad2-e6c938aa0c27",
   "metadata": {},
   "outputs": [
    {
     "data": {
      "image/png": "[encoded data removed]",
      "text/plain": [
       "<Figure size 72x288 with 1 Axes>"
      ]
     },
     "execution_count": 29,
     "metadata": {},
     "output_type": "execute_result"
    }
   ],
   "source": [
    "# Create a simulation instance.\n",
    "simulator = aer.QasmSimulator()\n",
    "\n",
    "# Compile the circuit in the simluator.\n",
    "compcircuit = qiskit.transpile(circuit, simulator)\n",
    "\n",
    "# Simulate the circuit 1000 times.\n",
    "job = simulator.run(compcircuit, shots=1000)\n",
    "\n",
    "# Get the results.\n",
    "results = job.result()\n",
    "\n",
    "# Show the result counts.\n",
    "counts = results.get_counts()\n",
    "\n",
    "# Display histogram\n",
    "qiskit.visualization.plot_histogram(counts, figsize=(1, 4))"
   ]
  },
  {
   "cell_type": "markdown",
   "id": "f5532d99-2670-4e86-8827-716b2b4305ee",
   "metadata": {},
   "source": [
    "### Random Functions"
   ]
  },
  {
   "cell_type": "code",
   "execution_count": 30,
   "id": "2bc9b760-7168-46ec-86c8-a802d0f1fa2a",
   "metadata": {},
   "outputs": [],
   "source": [
    "# Return a random (part of) circuit - implementing the quantum oracle for f\n",
    "def random_f():\n",
    "    # Create a circuit with 2 qubits, 1 classical bit\n",
    "    circuit = qiskit.QuantumCircuit(2, 1)\n",
    "    \n",
    "    # Pick one of the four functions at random\n",
    "    f_number = random.randint(1, 4)\n",
    "    \n",
    "    # 1: Constant 0 function. f(0) = f(1) = 0.\n",
    "    # 2: Constant 1 function. f(0) = f(1) = 1.\n",
    "    # 3: Balanced identity function. f(0) = 0, f(1) = 1.\n",
    "    # 4: Balanced not function. f(0) = 1, f(1) = 0.\n",
    "    \n",
    "    if f_number == 1:\n",
    "        # Apply Identity gate to second qubit\n",
    "        circuit.i(1)\n",
    "    elif f_number == 2:\n",
    "        # Apply Pauli x gate to second qubit\n",
    "        circuit.x(1)\n",
    "    elif f_number == 3:\n",
    "        # Apply CNOT gate to from first to second qubit\n",
    "        circuit.cnot(0, 1)\n",
    "    elif f_number == 4:\n",
    "        # Apply CNOT gate to from first to second qubit\n",
    "        circuit.cnot(0, 1)\n",
    "        # Apply Pauli x gate to second qubit\n",
    "        circuit.x(1)\n",
    "    else:\n",
    "        print(\"Error!\")\n",
    "        \n",
    "    # Return the circuit\n",
    "    return circuit"
   ]
  },
  {
   "cell_type": "markdown",
   "id": "f9c28964-038d-4ada-bc6a-a0931bc291eb",
   "metadata": {},
   "source": [
    "### Creating the first section of the circuit"
   ]
  },
  {
   "cell_type": "code",
   "execution_count": 31,
   "id": "4d541300-5cd8-4c2b-87d1-ca0fb5921cdc",
   "metadata": {},
   "outputs": [
    {
     "data": {
      "image/png": "[encoded data removed]",
      "text/plain": [
       "<Figure size 480.694x368.424 with 1 Axes>"
      ]
     },
     "execution_count": 31,
     "metadata": {},
     "output_type": "execute_result"
    }
   ],
   "source": [
    "# Create a quantum circuit\n",
    "circuit = qiskit.QuantumCircuit(2, 1)\n",
    "\n",
    "# Initialise the first qubit to |0>\n",
    "circuit.initialize([1, 0], 0)\n",
    "\n",
    "# Initialise the second qubit to |1>\n",
    "circuit.initialize([0, 1], 1)\n",
    "\n",
    "# Apply a Hadamard gate to each qubit\n",
    "circuit.h((0, 1))\n",
    "\n",
    "# Separate parts of circuit\n",
    "circuit.barrier()\n",
    "\n",
    "# Draw the circuit\n",
    "circuit.draw(output='mpl', scale=1.8)"
   ]
  },
  {
   "cell_type": "markdown",
   "id": "d2920368-0960-4c84-8a94-34c4fe906d41",
   "metadata": {},
   "source": [
    "### Creating the second section of the circuit"
   ]
  },
  {
   "cell_type": "code",
   "execution_count": 32,
   "id": "bb927b26-79b0-44fe-a0f6-5a7f87d1b581",
   "metadata": {},
   "outputs": [
    {
     "data": {
      "image/png": "[encoded data removed]",
      "text/plain": [
       "<Figure size 697.414x368.424 with 1 Axes>"
      ]
     },
     "execution_count": 32,
     "metadata": {},
     "output_type": "execute_result"
    }
   ],
   "source": [
    "# Append the random_f() circuit to circuit\n",
    "circuit.compose(random_f(), inplace=True)\n",
    "\n",
    "# Separate parts of circuit\n",
    "circuit.barrier()\n",
    "\n",
    "# Draw the circuit\n",
    "circuit.draw(output='mpl', scale=1.8)"
   ]
  },
  {
   "cell_type": "markdown",
   "id": "eec53bf8-87f7-419f-8ac6-268acd86ae86",
   "metadata": {},
   "source": [
    "### Create third section of the circuit"
   ]
  },
  {
   "cell_type": "code",
   "execution_count": 33,
   "id": "412a477c-28de-44bf-875f-dbf371727742",
   "metadata": {},
   "outputs": [
    {
     "data": {
      "image/png": "[encoded data removed]",
      "text/plain": [
       "<Figure size 914.134x368.424 with 1 Axes>"
      ]
     },
     "execution_count": 33,
     "metadata": {},
     "output_type": "execute_result"
    }
   ],
   "source": [
    "# Apply another Hadamard gate to the first qubit\n",
    "circuit.h(0)\n",
    "\n",
    "# Measure the first qubit\n",
    "circuit.measure(0, 0)\n",
    "\n",
    "# Draw the circuit\n",
    "circuit.draw(output='mpl', scale=1.8)"
   ]
  },
  {
   "cell_type": "markdown",
   "id": "741a4ad9-f4c3-4fa3-82db-661ba728f0a9",
   "metadata": {},
   "source": [
    "### Simulatation and Decision"
   ]
  },
  {
   "cell_type": "code",
   "execution_count": 34,
   "id": "d5fefec1-8cc4-460f-b578-63a3c415e07b",
   "metadata": {},
   "outputs": [
    {
     "data": {
      "image/png": "[encoded data removed]",
      "text/plain": [
       "<Figure size 72x288 with 1 Axes>"
      ]
     },
     "execution_count": 34,
     "metadata": {},
     "output_type": "execute_result"
    }
   ],
   "source": [
    "# Create a simulation instance\n",
    "simulator = aer.QasmSimulator()\n",
    "\n",
    "# Compile the circuit in the simluator\n",
    "compcircuit = qiskit.transpile(circuit, simulator)\n",
    "\n",
    "# Simulate the circuit 1000 times\n",
    "job = simulator.run(compcircuit, shots=1000)\n",
    "\n",
    "# Get the results\n",
    "results = job.result()\n",
    "\n",
    "# Show the result counts\n",
    "counts = results.get_counts()\n",
    "\n",
    "# Display histogram\n",
    "qiskit.visualization.plot_histogram(counts, figsize=(1, 4))"
   ]
  },
  {
   "cell_type": "code",
   "execution_count": null,
   "id": "4bdf5768-6bf0-47bf-9533-69c4e0e151ab",
   "metadata": {},
   "outputs": [],
   "source": []
  },
  {
   "cell_type": "code",
   "execution_count": null,
   "id": "e0fba3fb-5a72-4b8e-b66b-db00d1f37382",
   "metadata": {},
   "outputs": [],
   "source": []
  },
  {
   "cell_type": "code",
   "execution_count": null,
   "id": "14f10e41-30b5-4fb2-ae56-53cd40f4832b",
   "metadata": {},
   "outputs": [],
   "source": []
  },
  {
   "cell_type": "code",
   "execution_count": null,
   "id": "54afd263-9deb-4217-b771-4e3c02d5e033",
   "metadata": {},
   "outputs": [],
   "source": []
  }
 ],
 "metadata": {
  "kernelspec": {
   "display_name": "Python 3 (ipykernel)",
   "language": "python",
   "name": "python3"
  },
  "language_info": {
   "codemirror_mode": {
    "name": "ipython",
    "version": 3
   },
   "file_extension": ".py",
   "mimetype": "text/x-python",
   "name": "python",
   "nbconvert_exporter": "python",
   "pygments_lexer": "ipython3",
   "version": "3.9.7"
  }
 },
 "nbformat": 4,
 "nbformat_minor": 5
}
